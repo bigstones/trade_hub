{
 "cells": [
  {
   "cell_type": "code",
   "execution_count": null,
   "metadata": {},
   "outputs": [],
   "source": [
    "import numpy as np\n",
    "import pandas as pd\n",
    "import seaborn as sns\n",
    "import matplotlib.pyplot as plt\n",
    "%matplotlib inline\n",
    "import time\n",
    "\n",
    "import platform as pf\n",
    "from matplotlib import font_manager\n",
    "from matplotlib import rc\n",
    "import time\n",
    "\n",
    "plt.rcParams['axes.unicode_minus'] = False\n",
    "path = \"c:/windows/Fonts/malgun.ttf\" \n",
    "font_name = font_manager.FontProperties(fname=path).get_name()\n",
    "rc('font', family = font_name)\n",
    "\n",
    "import warnings\n",
    "warnings.filterwarnings('ignore')\n",
    "\n",
    "print('시작' ,time.strftime('%Y-%m-%d %I:%M:%S %p', time.localtime()))\n",
    "start_time = time.time()\n",
    "data_frame = pd.read_csv('../data', header=0, encoding='ansi')#<-- 여기에 파일이름이랑 파일 설정 잘 해주셔용\n",
    "not_obj_col = data_frame.dtypes[data_frame.dtypes!='object']\n",
    "not_obj_idx = not_obj_col.index\n",
    "len_ind = len(not_obj_idx)\n",
    "len_ind_sub = int(len_ind/3)\n",
    "\n",
    "if int(len_ind%3)!= 0:\n",
    "    fig, axs = plt.subplots(figsize=(15, (len_ind_sub+1)*5), nrows=(len_ind_sub+1) , ncols=3)\n",
    "else:\n",
    "    fig, axs = plt.subplots(figsize=(15, len_ind_sub*5), nrows=len_ind_sub , ncols=3)\n",
    "\n",
    "print('for 문시작' ,time.strftime('%Y-%m-%d %I:%M:%S %p', time.localtime()))\n",
    "for i, val in enumerate(not_obj_idx.values):\n",
    "    row = int(i/3)\n",
    "    col = i%3\n",
    "    sns.histplot(data_frame[val], ax=axs[row][col])\n",
    "    \n",
    "end_time = time.time()\n",
    "print('for 문끝' ,time.strftime('%Y-%m-%d %I:%M:%S %p', time.localtime()))\n",
    "print ('걸린시간 : ', end_time - start_time)"
   ]
  },
  {
   "cell_type": "code",
   "execution_count": null,
   "metadata": {},
   "outputs": [],
   "source": []
  }
 ],
 "metadata": {
  "kernelspec": {
   "display_name": "ml01-02",
   "language": "python",
   "name": "ml01-02"
  },
  "language_info": {
   "codemirror_mode": {
    "name": "ipython",
    "version": 3
   },
   "file_extension": ".py",
   "mimetype": "text/x-python",
   "name": "python",
   "nbconvert_exporter": "python",
   "pygments_lexer": "ipython3",
   "version": "3.7.7"
  }
 },
 "nbformat": 4,
 "nbformat_minor": 4
}
